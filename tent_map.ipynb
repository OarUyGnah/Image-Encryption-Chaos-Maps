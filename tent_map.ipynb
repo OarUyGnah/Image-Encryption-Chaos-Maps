{
 "cells": [
  {
   "cell_type": "code",
   "execution_count": 1,
   "metadata": {},
   "outputs": [],
   "source": [
    "import matplotlib\n",
    "import pylab as pl\n",
    "import math\n",
    "import numpy as np\n",
    "import matplotlib.pyplot as plt\n"
   ]
  },
  {
   "cell_type": "code",
   "execution_count": 3,
   "metadata": {},
   "outputs": [
    {
     "ename": "IndexError",
     "evalue": "only integers, slices (`:`), ellipsis (`...`), numpy.newaxis (`None`) and integer or boolean arrays are valid indices",
     "output_type": "error",
     "traceback": [
      "\u001b[1;31m---------------------------------------------------------------------------\u001b[0m",
      "\u001b[1;31mIndexError\u001b[0m                                Traceback (most recent call last)",
      "\u001b[1;32m~\\AppData\\Local\\Temp\\ipykernel_17864\\2814921960.py\u001b[0m in \u001b[0;36m<module>\u001b[1;34m\u001b[0m\n\u001b[0;32m     52\u001b[0m \u001b[1;32mfor\u001b[0m \u001b[0mm\u001b[0m \u001b[1;32min\u001b[0m \u001b[0mnp\u001b[0m\u001b[1;33m.\u001b[0m\u001b[0marange\u001b[0m\u001b[1;33m(\u001b[0m\u001b[0mmstart\u001b[0m\u001b[1;33m,\u001b[0m\u001b[0mlen\u001b[0m\u001b[1;33m(\u001b[0m\u001b[0malpha_list\u001b[0m\u001b[1;33m)\u001b[0m\u001b[1;33m)\u001b[0m\u001b[1;33m:\u001b[0m\u001b[1;33m\u001b[0m\u001b[1;33m\u001b[0m\u001b[0m\n\u001b[0;32m     53\u001b[0m     \u001b[1;32mfor\u001b[0m \u001b[0mn\u001b[0m \u001b[1;32min\u001b[0m \u001b[0mrange\u001b[0m\u001b[1;33m(\u001b[0m\u001b[1;36m1000\u001b[0m\u001b[1;33m,\u001b[0m\u001b[0mlen\u001b[0m\u001b[1;33m(\u001b[0m\u001b[0mx\u001b[0m\u001b[1;33m)\u001b[0m\u001b[1;33m)\u001b[0m\u001b[1;33m:\u001b[0m\u001b[1;33m\u001b[0m\u001b[1;33m\u001b[0m\u001b[0m\n\u001b[1;32m---> 54\u001b[1;33m         \u001b[0mplt\u001b[0m\u001b[1;33m.\u001b[0m\u001b[0mscatter\u001b[0m\u001b[1;33m(\u001b[0m\u001b[0malpha_list\u001b[0m\u001b[1;33m[\u001b[0m\u001b[0mm\u001b[0m\u001b[1;33m]\u001b[0m\u001b[1;33m,\u001b[0m\u001b[0mz\u001b[0m\u001b[1;33m[\u001b[0m\u001b[0mn\u001b[0m\u001b[1;33m]\u001b[0m\u001b[1;33m[\u001b[0m\u001b[0mm\u001b[0m\u001b[1;33m]\u001b[0m\u001b[1;33m,\u001b[0m\u001b[0mmarker\u001b[0m\u001b[1;33m=\u001b[0m\u001b[1;34m's'\u001b[0m\u001b[1;33m,\u001b[0m\u001b[0mfacecolor\u001b[0m\u001b[1;33m=\u001b[0m\u001b[1;34m'0.5'\u001b[0m\u001b[1;33m,\u001b[0m\u001b[0medgecolor\u001b[0m\u001b[1;33m=\u001b[0m\u001b[1;34m'none'\u001b[0m\u001b[1;33m)\u001b[0m\u001b[1;33m\u001b[0m\u001b[1;33m\u001b[0m\u001b[0m\n\u001b[0m\u001b[0;32m     55\u001b[0m         \u001b[0mplt\u001b[0m\u001b[1;33m.\u001b[0m\u001b[0mhold\u001b[0m\u001b[1;33m(\u001b[0m\u001b[1;32mTrue\u001b[0m\u001b[1;33m)\u001b[0m\u001b[1;33m\u001b[0m\u001b[1;33m\u001b[0m\u001b[0m\n\u001b[0;32m     56\u001b[0m \u001b[1;33m\u001b[0m\u001b[0m\n",
      "\u001b[1;31mIndexError\u001b[0m: only integers, slices (`:`), ellipsis (`...`), numpy.newaxis (`None`) and integer or boolean arrays are valid indices"
     ]
    }
   ],
   "source": [
    "#-------------------------------------------------------------#\n",
    "# Initial condition\n",
    "#-------------------------------------------------------------#\n",
    "\n",
    "x0=0.2\n",
    "\n",
    "\n",
    "# List of alpha's\n",
    "alpha_list=np.linspace(0.1,0.9,81)\n",
    "\n",
    "# List of N values (Total number of iterations=length of x)\n",
    "x=range(2000)\n",
    "\n",
    "# Index corresponding to alpha=0.5\n",
    "mstart=(len(alpha_list)-1)/2\n",
    "\n",
    "#-------------------------------------------------------------#\n",
    "# Creating zero matrices\n",
    "# I'm going to use columns to represent xN values for different alpha's\n",
    "# Rows will be different xN values for N=0 to len(x)\n",
    "#-------------------------------------------------------------#\n",
    "\n",
    "z=np.zeros((len(x),len(alpha_list)))\n",
    "\n",
    "for m in range(len(alpha_list)):\n",
    "    z[0][m]=x0\n",
    "\n",
    "\n",
    "#-------------------------------------------------------------#\n",
    "#defining the function f(mu)\n",
    "#-------------------------------------------------------------#\n",
    "def fmu(x,alpha):\n",
    "    if x<0.5:\n",
    "        return 2*alpha*x\n",
    "    else:\n",
    "        return 2*alpha*(1-x)\n",
    "\n",
    "\n",
    "#-------------------------------------------------------------#\n",
    "# Constructing z-matrix, XN's in rows and columns corresponds to alpha values\n",
    "#-------------------------------------------------------------#\n",
    "\n",
    "for m in range(len(alpha_list)):\n",
    "    for n in range(len(x)-1):\n",
    "        z[n+1][m]= fmu(z[n][m],alpha_list[m])     \n",
    "\n",
    "\n",
    "#-------------------------------------------------------------#\n",
    "# Plotting\n",
    "#-------------------------------------------------------------#\n",
    "\n",
    "for m in np.arange(mstart,len(alpha_list)):\n",
    "    for n in range(1000,len(x)):\n",
    "        plt.scatter(alpha_list[m],z[n][m],marker='s',facecolor='0.5',edgecolor='none')\n",
    "        plt.hold(True) \n",
    "\n",
    "plt.xlabel('Alpha')\n",
    "plt.ylabel('$X_N$')\n",
    "plt.title('Tent Map')\n",
    "plt.show()"
   ]
  }
 ],
 "metadata": {
  "kernelspec": {
   "display_name": "base",
   "language": "python",
   "name": "python3"
  },
  "language_info": {
   "codemirror_mode": {
    "name": "ipython",
    "version": 3
   },
   "file_extension": ".py",
   "mimetype": "text/x-python",
   "name": "python",
   "nbconvert_exporter": "python",
   "pygments_lexer": "ipython3",
   "version": "3.9.13"
  },
  "orig_nbformat": 4,
  "vscode": {
   "interpreter": {
    "hash": "b09ec625f77bf4fd762565a912b97636504ad6ec901eb2d0f4cf5a7de23e1ee5"
   }
  }
 },
 "nbformat": 4,
 "nbformat_minor": 2
}
