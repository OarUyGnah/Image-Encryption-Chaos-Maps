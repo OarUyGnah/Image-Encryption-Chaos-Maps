{
 "cells": [
  {
   "cell_type": "code",
   "execution_count": 1,
   "metadata": {},
   "outputs": [],
   "source": [
    "from hashlib import sha256\n",
    "import image_tools as it"
   ]
  },
  {
   "cell_type": "code",
   "execution_count": 2,
   "metadata": {},
   "outputs": [
    {
     "name": "stdout",
     "output_type": "stream",
     "text": [
      "(250, 250)\n",
      "60\n"
     ]
    }
   ],
   "source": [
    "img = it.get_image_matrix_color('graphs\\orig.png')\n",
    "img2 = it.get_image_gray('graphs\\orig.png')\n",
    "print(img2.shape)\n",
    "print(img2[0][0])\n",
    "i,j,k = img.shape\n",
    "# for ii in range(0,i):\n",
    "#     for jj in range(0,j):\n",
    "#         for kk in range(0,k):\n",
    "#             print(img[ii][jj][kk],end=' ')\n",
    "#         print()\n",
    "#     print(\"=====\")\n"
   ]
  },
  {
   "cell_type": "code",
   "execution_count": 3,
   "metadata": {},
   "outputs": [
    {
     "ename": "FileNotFoundError",
     "evalue": "[Errno 2] No such file or directory: 'E:\\\\CodeBase\\\\CorC++\\\\opencvTest\\\\1.png'",
     "output_type": "error",
     "traceback": [
      "\u001b[1;31m---------------------------------------------------------------------------\u001b[0m",
      "\u001b[1;31mFileNotFoundError\u001b[0m                         Traceback (most recent call last)",
      "Cell \u001b[1;32mIn[3], line 2\u001b[0m\n\u001b[0;32m      1\u001b[0m \u001b[39m# qt 7f634296a4be3839db5c6cde0e552a0e466763ebbf992d4a652f1b55a09f978e\u001b[39;00m\n\u001b[1;32m----> 2\u001b[0m file \u001b[39m=\u001b[39m \u001b[39mopen\u001b[39;49m(\u001b[39m\"\u001b[39;49m\u001b[39mE:\u001b[39;49m\u001b[39m\\\\\u001b[39;49;00m\u001b[39mCodeBase\u001b[39;49m\u001b[39m\\\\\u001b[39;49;00m\u001b[39mCorC++\u001b[39;49m\u001b[39m\\\\\u001b[39;49;00m\u001b[39mopencvTest\u001b[39;49m\u001b[39m\\\\\u001b[39;49;00m\u001b[39m1.png\u001b[39;49m\u001b[39m\"\u001b[39;49m,\u001b[39m'\u001b[39;49m\u001b[39mrb\u001b[39;49m\u001b[39m'\u001b[39;49m)\n\u001b[0;32m      3\u001b[0m content \u001b[39m=\u001b[39m file\u001b[39m.\u001b[39mread() \u001b[39m# 和qt sha256一样\u001b[39;00m\n\u001b[0;32m      4\u001b[0m \u001b[39m# sha256 hash值\u001b[39;00m\n\u001b[0;32m      5\u001b[0m \u001b[39m# print(sha256(img).hexdigest())\u001b[39;00m\n",
      "File \u001b[1;32m~\\AppData\\Local\\Packages\\PythonSoftwareFoundation.Python.3.9_qbz5n2kfra8p0\\LocalCache\\local-packages\\Python39\\site-packages\\IPython\\core\\interactiveshell.py:282\u001b[0m, in \u001b[0;36m_modified_open\u001b[1;34m(file, *args, **kwargs)\u001b[0m\n\u001b[0;32m    275\u001b[0m \u001b[39mif\u001b[39;00m file \u001b[39min\u001b[39;00m {\u001b[39m0\u001b[39m, \u001b[39m1\u001b[39m, \u001b[39m2\u001b[39m}:\n\u001b[0;32m    276\u001b[0m     \u001b[39mraise\u001b[39;00m \u001b[39mValueError\u001b[39;00m(\n\u001b[0;32m    277\u001b[0m         \u001b[39mf\u001b[39m\u001b[39m\"\u001b[39m\u001b[39mIPython won\u001b[39m\u001b[39m'\u001b[39m\u001b[39mt let you open fd=\u001b[39m\u001b[39m{\u001b[39;00mfile\u001b[39m}\u001b[39;00m\u001b[39m by default \u001b[39m\u001b[39m\"\u001b[39m\n\u001b[0;32m    278\u001b[0m         \u001b[39m\"\u001b[39m\u001b[39mas it is likely to crash IPython. If you know what you are doing, \u001b[39m\u001b[39m\"\u001b[39m\n\u001b[0;32m    279\u001b[0m         \u001b[39m\"\u001b[39m\u001b[39myou can use builtins\u001b[39m\u001b[39m'\u001b[39m\u001b[39m open.\u001b[39m\u001b[39m\"\u001b[39m\n\u001b[0;32m    280\u001b[0m     )\n\u001b[1;32m--> 282\u001b[0m \u001b[39mreturn\u001b[39;00m io_open(file, \u001b[39m*\u001b[39margs, \u001b[39m*\u001b[39m\u001b[39m*\u001b[39mkwargs)\n",
      "\u001b[1;31mFileNotFoundError\u001b[0m: [Errno 2] No such file or directory: 'E:\\\\CodeBase\\\\CorC++\\\\opencvTest\\\\1.png'"
     ]
    }
   ],
   "source": [
    "# qt 7f634296a4be3839db5c6cde0e552a0e466763ebbf992d4a652f1b55a09f978e\n",
    "file = open(\"E:\\\\CodeBase\\\\CorC++\\\\opencvTest\\\\1.png\",'rb')\n",
    "content = file.read() # 和qt sha256一样\n",
    "# sha256 hash值\n",
    "# print(sha256(img).hexdigest())\n",
    "img = it.get_image_matrix_color(\"E:\\\\CodeBase\\\\CorC++\\\\opencvTest\\\\1.png\")\n",
    "print(sha256(content).hexdigest())\n",
    "print(bin(int.from_bytes(sha256(content).digest(), byteorder='big')))\n",
    "\n",
    "sha256_bit_arr = bin(int.from_bytes(sha256(content).digest(), byteorder='big'))[2:] # 删除开始的0b\n",
    "\n",
    "print(sha256_bit_arr)\n",
    "print(len(sha256_bit_arr))\n",
    "if(len(sha256_bit_arr) == 255):\n",
    "    sha256_bit_arr = '0' + sha256_bit_arr\n",
    "print(sha256_bit_arr)\n",
    "list = [\"\"]*8\n",
    "# print(list)\n",
    "# for i in range(8):\n",
    "#     for j in range(8):\n",
    "#         list[i].append(sha256_bit_arr[i])\n",
    "new_numbers = []    # 储存新数字的列表\n",
    "\n",
    "for i in range(0,256,8):\n",
    "    for j in range(8):\n",
    "        # list[j].append(sha256_bit_arr[i+j])\n",
    "        list[j] = list[j]+sha256_bit_arr[i+j]\n",
    "# print(bin(list[0]))\n",
    "print(list)    # 打印8个32位新数字\n",
    "num = [int(list[i],2) for i in range(len(list))]\n",
    "print(num)\n",
    "\n",
    "print(sum(num) % 256**2)\n",
    "# num = [int(sha256_bit_arr[i:i+32], 2) for i in range(0, 256, 32))]\n",
    "# print(num)\n",
    "# 转换为二进制\n",
    "# binary_hash = bin(int.from_bytes(sha256.digest(), byteorder='big'))\n",
    "\n",
    "\n",
    "# r,g,b = it.get_rgb_arr2(img)\n",
    "# print(r)\n"
   ]
  },
  {
   "cell_type": "code",
   "execution_count": null,
   "metadata": {},
   "outputs": [
    {
     "name": "stdout",
     "output_type": "stream",
     "text": [
      "32\n"
     ]
    }
   ],
   "source": [
    "number = sha256_bit_arr   # 输入的256位数值\n",
    "\n",
    "new_numbers = []    # 储存新数字的列表\n",
    "\n",
    "for i in range(0, len(number), 8):    # 每隔8位循环一次\n",
    "    segment = number[i:i+8]    # 取出8位子串\n",
    "    new_number = 0    # 储存新数字的变量\n",
    "    for j in range(len(segment)):    # 循环8次\n",
    "        new_number += int(segment[j], 16) << (32-4*(j+1))    # 将16进制字符转化为整型数值，按位左移，组成新数字\n",
    "    new_numbers.append(new_number)    # 将新数字添加到列表中\n",
    "\n",
    "print(len(new_numbers))    # 打印8个32位新数字"
   ]
  },
  {
   "cell_type": "code",
   "execution_count": null,
   "metadata": {},
   "outputs": [],
   "source": [
    "str = sha256(content).hexdigest()\n",
    "str_list = []\n",
    "num_list = []\n",
    "last = 0\n",
    "for i in range(8):\n",
    "    str_list.append(str[last:last+8])\n",
    "    num_list.append(int(str_list[i],16))\n",
    "    last += 8\n",
    "print(str_list)\n",
    "print(num_list)\n",
    "print(sum(num_list))\n",
    "print(256**4)\n",
    "print(sum(num_list) % (256**2)) # 优先迭代的次数\n",
    "str1 = str[0:8]\n",
    "str2 = str[8:16]\n",
    "\n",
    "int(str1,16)\n",
    "int(str2,16)\n",
    "\n",
    "a = 0xffffffff\n",
    "a*8 # 不会溢出"
   ]
  },
  {
   "cell_type": "code",
   "execution_count": null,
   "metadata": {},
   "outputs": [],
   "source": []
  }
 ],
 "metadata": {
  "kernelspec": {
   "display_name": "base",
   "language": "python",
   "name": "python3"
  },
  "language_info": {
   "codemirror_mode": {
    "name": "ipython",
    "version": 3
   },
   "file_extension": ".py",
   "mimetype": "text/x-python",
   "name": "python",
   "nbconvert_exporter": "python",
   "pygments_lexer": "ipython3",
   "version": "3.9.13"
  },
  "orig_nbformat": 4,
  "vscode": {
   "interpreter": {
    "hash": "b09ec625f77bf4fd762565a912b97636504ad6ec901eb2d0f4cf5a7de23e1ee5"
   }
  }
 },
 "nbformat": 4,
 "nbformat_minor": 2
}
