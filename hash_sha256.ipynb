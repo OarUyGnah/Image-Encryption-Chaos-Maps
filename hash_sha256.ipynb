{
 "cells": [
  {
   "cell_type": "code",
   "execution_count": 15,
   "metadata": {},
   "outputs": [],
   "source": [
    "from hashlib import sha256\n",
    "import image_tools as it"
   ]
  },
  {
   "cell_type": "code",
   "execution_count": 16,
   "metadata": {},
   "outputs": [
    {
     "name": "stdout",
     "output_type": "stream",
     "text": [
      "(250, 250)\n",
      "60\n"
     ]
    }
   ],
   "source": [
    "img = it.get_image_matrix_color('graphs\\orig.png')\n",
    "img2 = it.get_image_gray('graphs\\orig.png')\n",
    "print(img2.shape)\n",
    "print(img2[0][0])\n",
    "i,j,k = img.shape\n",
    "# for ii in range(0,i):\n",
    "#     for jj in range(0,j):\n",
    "#         for kk in range(0,k):\n",
    "#             print(img[ii][jj][kk],end=' ')\n",
    "#         print()\n",
    "#     print(\"=====\")\n"
   ]
  },
  {
   "cell_type": "code",
   "execution_count": 17,
   "metadata": {},
   "outputs": [
    {
     "name": "stdout",
     "output_type": "stream",
     "text": [
      "0111111101100011010000101001011010100100101111100011100000111001110110110101110001101100110111100000111001010101001010100000111001000110011001110110001111101011101111111001100100101101010010100110010100101111000110110101010110100000100111111001011110001110\n",
      "[479206415, 3774149008, 3475143368, 2547256374, 2281381733, 2625489623, 4103862631, 3246685942]\n",
      "22533175094\n",
      "63286\n"
     ]
    },
    {
     "data": {
      "text/plain": [
       "2316028226"
      ]
     },
     "execution_count": 17,
     "metadata": {},
     "output_type": "execute_result"
    }
   ],
   "source": [
    "# qt 7f634296a4be3839db5c6cde0e552a0e466763ebbf992d4a652f1b55a09f978e\n",
    "\n",
    "def get_sha256_hex(filename):\n",
    "    file = open(filename, 'rb')\n",
    "    return sha256(file.read()).hexdigest()\n",
    "\n",
    "# 大端表示\n",
    "\n",
    "\n",
    "def get_sha256_bin(filename):\n",
    "    file = open(filename, 'rb')\n",
    "    ret = bin(int.from_bytes(\n",
    "        sha256(file.read()).digest(), byteorder='big'))[2:]\n",
    "    if len(ret) == 255:\n",
    "        ret = '0' + ret\n",
    "    return ret\n",
    "\n",
    "\n",
    "# 将二进制的数每隔32位取一个，组成8个新的int值\n",
    "def sha256_to_8_num(str):\n",
    "    list = [\"\"]*8\n",
    "    for i in range(0, 256, 8):\n",
    "        for j in range(8):\n",
    "            list[j] = list[j]+str[i+j]\n",
    "    # print(list)\n",
    "    return [int(list[i], 2) for i in range(len(list))]\n",
    "\n",
    "\n",
    "def mod_k_n(num, k=256, n=1):\n",
    "    return num % (k**n)\n",
    "\n",
    "# 数组nums逐个值异或\n",
    "def nums_xor(nums):\n",
    "    ret = nums[0]\n",
    "    for i in range(1,len(nums)):\n",
    "        ret ^= nums[i]\n",
    "    return ret\n",
    "\n",
    "\n",
    "# print(get_sha256_hex(\"E:\\\\CodeBase\\\\CorC++\\\\opencvTest\\\\1.png\"))\n",
    "# print(get_sha256_bin(\"E:\\\\CodeBase\\\\CorC++\\\\opencvTest\\\\1.png\"))\n",
    "b = get_sha256_bin(\"E:\\\\CodeBase\\\\CorC++\\\\opencvTest\\\\1.png\")\n",
    "print(b)\n",
    "nums_sum = sha256_to_8_num(b)\n",
    "print(sha256_to_8_num(b))\n",
    "print(sum(nums_sum))\n",
    "x1 = sum(nums_sum)\n",
    "print(mod_k_n(x1,256,2))\n",
    "nums_xor(nums_sum)"
   ]
  },
  {
   "cell_type": "code",
   "execution_count": 18,
   "metadata": {},
   "outputs": [],
   "source": [
    "# number = sha256_bit_arr   # 输入的256位数值\n",
    "\n",
    "# new_numbers = []    # 储存新数字的列表\n",
    "\n",
    "# for i in range(0, len(number), 8):    # 每隔8位循环一次\n",
    "#     segment = number[i:i+8]    # 取出8位子串\n",
    "#     new_number = 0    # 储存新数字的变量\n",
    "#     for j in range(len(segment)):    # 循环8次\n",
    "#         new_number += int(segment[j], 16) << (32-4*(j+1))    # 将16进制字符转化为整型数值，按位左移，组成新数字\n",
    "#     new_numbers.append(new_number)    # 将新数字添加到列表中\n",
    "\n",
    "# print(len(new_numbers))    # 打印8个32位新数字\n"
   ]
  },
  {
   "cell_type": "code",
   "execution_count": 19,
   "metadata": {},
   "outputs": [],
   "source": [
    "# str = sha256(content).hexdigest()\n",
    "# str_list = []\n",
    "# num_list = []\n",
    "# last = 0\n",
    "# for i in range(8):\n",
    "#     str_list.append(str[last:last+8])\n",
    "#     num_list.append(int(str_list[i],16))\n",
    "#     last += 8\n",
    "# print(str_list)\n",
    "# print(num_list)\n",
    "# print(sum(num_list))\n",
    "# print(256**4)\n",
    "# print(sum(num_list) % (256**2)) # 优先迭代的次数\n",
    "# str1 = str[0:8]\n",
    "# str2 = str[8:16]\n",
    "\n",
    "# int(str1,16)\n",
    "# int(str2,16)\n",
    "\n",
    "# a = 0xffffffff\n",
    "# a*8 # 不会溢出"
   ]
  },
  {
   "cell_type": "code",
   "execution_count": null,
   "metadata": {},
   "outputs": [],
   "source": []
  }
 ],
 "metadata": {
  "kernelspec": {
   "display_name": "base",
   "language": "python",
   "name": "python3"
  },
  "language_info": {
   "codemirror_mode": {
    "name": "ipython",
    "version": 3
   },
   "file_extension": ".py",
   "mimetype": "text/x-python",
   "name": "python",
   "nbconvert_exporter": "python",
   "pygments_lexer": "ipython3",
   "version": "3.9.13"
  },
  "orig_nbformat": 4,
  "vscode": {
   "interpreter": {
    "hash": "b09ec625f77bf4fd762565a912b97636504ad6ec901eb2d0f4cf5a7de23e1ee5"
   }
  }
 },
 "nbformat": 4,
 "nbformat_minor": 2
}
