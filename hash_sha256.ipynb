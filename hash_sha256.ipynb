{
 "cells": [
  {
   "cell_type": "code",
   "execution_count": 67,
   "metadata": {},
   "outputs": [],
   "source": [
    "from hashlib import sha256\n",
    "import image_tools as it"
   ]
  },
  {
   "cell_type": "code",
   "execution_count": null,
   "metadata": {},
   "outputs": [],
   "source": [
    "img = it.get_image_matrix_color('graphs\\orig.png')\n",
    "img2 = it.get_image_gray('graphs\\orig.png')\n",
    "print(img2.shape)\n",
    "print(img2[0][0])\n",
    "i,j,k = img.shape\n",
    "for ii in range(0,i):\n",
    "    for jj in range(0,j):\n",
    "        for kk in range(0,k):\n",
    "            print(img[ii][jj][kk],end=' ')\n",
    "        print()\n",
    "    print(\"=====\")\n"
   ]
  },
  {
   "cell_type": "code",
   "execution_count": 71,
   "metadata": {},
   "outputs": [
    {
     "name": "stdout",
     "output_type": "stream",
     "text": [
      "f22460c9c1785124a0ecef8c4c683fe69b7c868fff87bf7f602225732b9066c7\n"
     ]
    }
   ],
   "source": [
    "# sha256 hash值\n",
    "print(sha256(img).hexdigest())\n",
    "# r,g,b = it.get_rgb_arr2(img)\n",
    "# print(r)"
   ]
  },
  {
   "cell_type": "code",
   "execution_count": null,
   "metadata": {},
   "outputs": [],
   "source": []
  }
 ],
 "metadata": {
  "kernelspec": {
   "display_name": "base",
   "language": "python",
   "name": "python3"
  },
  "language_info": {
   "codemirror_mode": {
    "name": "ipython",
    "version": 3
   },
   "file_extension": ".py",
   "mimetype": "text/x-python",
   "name": "python",
   "nbconvert_exporter": "python",
   "pygments_lexer": "ipython3",
   "version": "3.9.13"
  },
  "orig_nbformat": 4,
  "vscode": {
   "interpreter": {
    "hash": "b09ec625f77bf4fd762565a912b97636504ad6ec901eb2d0f4cf5a7de23e1ee5"
   }
  }
 },
 "nbformat": 4,
 "nbformat_minor": 2
}
