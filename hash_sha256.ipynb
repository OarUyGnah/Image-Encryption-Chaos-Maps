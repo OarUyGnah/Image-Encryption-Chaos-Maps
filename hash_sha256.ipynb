{
 "cells": [
  {
   "cell_type": "code",
   "execution_count": 4,
   "metadata": {},
   "outputs": [],
   "source": [
    "from hashlib import sha256\n",
    "import image_tools as it"
   ]
  },
  {
   "cell_type": "code",
   "execution_count": null,
   "metadata": {},
   "outputs": [],
   "source": [
    "img = it.get_image_matrix_color('graphs\\orig.png')\n",
    "img2 = it.get_image_gray('graphs\\orig.png')\n",
    "print(img2.shape)\n",
    "print(img2[0][0])\n",
    "i,j,k = img.shape\n",
    "for ii in range(0,i):\n",
    "    for jj in range(0,j):\n",
    "        for kk in range(0,k):\n",
    "            print(img[ii][jj][kk],end=' ')\n",
    "        print()\n",
    "    print(\"=====\")\n"
   ]
  },
  {
   "cell_type": "code",
   "execution_count": 9,
   "metadata": {},
   "outputs": [
    {
     "name": "stdout",
     "output_type": "stream",
     "text": [
      "74c23104f234f98defd384f7441e9c7f34d9e72d6cc4c2d2cebfd66e30b46279\n",
      "7f634296a4be3839db5c6cde0e552a0e466763ebbf992d4a652f1b55a09f978e\n"
     ]
    }
   ],
   "source": [
    "# qt 7f634296a4be3839db5c6cde0e552a0e466763ebbf992d4a652f1b55a09f978e\n",
    "file = open(\"E:\\\\CodeBase\\\\CorC++\\\\opencvTest\\\\1.png\",'rb')\n",
    "content = file.read() # 和qt sha256一样\n",
    "# sha256 hash值\n",
    "print(sha256(img).hexdigest())\n",
    "img = it.get_image_matrix_color(\"E:\\\\CodeBase\\\\CorC++\\\\opencvTest\\\\1.png\")\n",
    "print(sha256(content).hexdigest())\n",
    "# r,g,b = it.get_rgb_arr2(img)\n",
    "# print(r)"
   ]
  },
  {
   "cell_type": "code",
   "execution_count": 39,
   "metadata": {},
   "outputs": [
    {
     "name": "stdout",
     "output_type": "stream",
     "text": [
      "['7f634296', 'a4be3839', 'db5c6cde', '0e552a0e', '466763eb', 'bf992d4a', '652f1b55', 'a09f978e']\n",
      "[2137211542, 2763929657, 3680267486, 240462350, 1181180907, 3214486858, 1697586005, 2694813582]\n",
      "17609938387\n",
      "4294967296\n",
      "21971\n"
     ]
    },
    {
     "data": {
      "text/plain": [
       "34359738360"
      ]
     },
     "execution_count": 39,
     "metadata": {},
     "output_type": "execute_result"
    }
   ],
   "source": [
    "str = sha256(content).hexdigest()\n",
    "str_list = []\n",
    "num_list = []\n",
    "last = 0\n",
    "for i in range(8):\n",
    "    str_list.append(str[last:last+8])\n",
    "    num_list.append(int(str_list[i],16))\n",
    "    last += 8\n",
    "print(str_list)\n",
    "print(num_list)\n",
    "print(sum(num_list))\n",
    "print(256**4)\n",
    "print(sum(num_list) % (256**2)) # 优先迭代的次数\n",
    "str1 = str[0:8]\n",
    "str2 = str[8:16]\n",
    "\n",
    "int(str1,16)\n",
    "int(str2,16)\n",
    "\n",
    "a = 0xffffffff\n",
    "a*8 # 不会溢出"
   ]
  },
  {
   "cell_type": "code",
   "execution_count": null,
   "metadata": {},
   "outputs": [],
   "source": []
  }
 ],
 "metadata": {
  "kernelspec": {
   "display_name": "base",
   "language": "python",
   "name": "python3"
  },
  "language_info": {
   "codemirror_mode": {
    "name": "ipython",
    "version": 3
   },
   "file_extension": ".py",
   "mimetype": "text/x-python",
   "name": "python",
   "nbconvert_exporter": "python",
   "pygments_lexer": "ipython3",
   "version": "3.9.13"
  },
  "orig_nbformat": 4,
  "vscode": {
   "interpreter": {
    "hash": "b09ec625f77bf4fd762565a912b97636504ad6ec901eb2d0f4cf5a7de23e1ee5"
   }
  }
 },
 "nbformat": 4,
 "nbformat_minor": 2
}
